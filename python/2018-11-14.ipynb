{
 "cells": [
  {
   "cell_type": "code",
   "execution_count": 13,
   "metadata": {},
   "outputs": [],
   "source": [
    "##funcitons\n",
    "def myPlus(num1,num2):\n",
    "    return num1+num2\n",
    "\n",
    "## + - * ** / //\n",
    "def myMinus(num1,num2):\n",
    "    return num1-num2\n",
    "\n",
    "def myMul(num1,num2):\n",
    "    return num1*num2\n",
    "\n",
    "def myPow(num1,num2):\n",
    "    return num1**num2\n",
    "\n",
    "def myDiv(num1,num2):\n",
    "    return num1/num2\n",
    "\n",
    "def myIntDiv(num1,num2):\n",
    "    return num1//num2\n"
   ]
  },
  {
   "cell_type": "code",
   "execution_count": 4,
   "metadata": {},
   "outputs": [
    {
     "name": "stdout",
     "output_type": "stream",
     "text": [
      "3\n"
     ]
    }
   ],
   "source": [
    "number1 =1\n",
    "number2 =2\n",
    "\n",
    "##logic 두 수를 더한다.\n",
    "result= number1 + number2\n",
    "\n",
    "print(result)"
   ]
  },
  {
   "cell_type": "code",
   "execution_count": 3,
   "metadata": {},
   "outputs": [
    {
     "name": "stdout",
     "output_type": "stream",
     "text": [
      "3\n"
     ]
    }
   ],
   "source": [
    "print(mySum(3,5))"
   ]
  },
  {
   "cell_type": "code",
   "execution_count": 6,
   "metadata": {},
   "outputs": [
    {
     "name": "stdout",
     "output_type": "stream",
     "text": [
      "1\n",
      "1.0\n"
     ]
    }
   ],
   "source": [
    "### 정수형 , 실수형 차이\n",
    "number = 1\n",
    "number2 = 1.\n",
    "\n",
    "print(number)\n",
    "print(number2)"
   ]
  },
  {
   "cell_type": "code",
   "execution_count": 14,
   "metadata": {},
   "outputs": [
    {
     "name": "stdout",
     "output_type": "stream",
     "text": [
      "<class 'int'>\n",
      "+  8\n",
      "+  8\n",
      "-  2\n",
      "-  2\n",
      "*  15\n",
      "*  15\n",
      "**  125\n",
      "**  125\n",
      "/  1.6666666666666667\n",
      "/  1.6666666666666667\n",
      "<class 'float'>\n",
      "//  1\n",
      "1\n"
     ]
    }
   ],
   "source": [
    "num1= 5\n",
    "num2 =3\n",
    "\n",
    "###type\n",
    "print(type(num1))\n",
    "### +\n",
    "print('+ ',num1+num2)\n",
    "print('+ ',myPlus(num1,num2))\n",
    "### -\n",
    "print('- ',num1-num2)\n",
    "print('- ',myMinus(num1,num2))\n",
    "\n",
    "### *(mul)\n",
    "print('* ',num1*num2)\n",
    "print('* ',myMul(num1,num2))\n",
    "\n",
    "\n",
    "### **(pow)\n",
    "print('** ',num1**num2)\n",
    "print('** ',myPow(num1,num2))\n",
    "\n",
    "### /(divide)\n",
    "print('/ ',num1/num2)\n",
    "print('/ ',myDiv(num1,num2))\n",
    "res=(num1/num2)\n",
    "print(type(res))\n",
    "\n",
    "### //(int divide)\n",
    "print('// ',num1//num2)\n",
    "print(myIntDiv(num1,num2))\n",
    "\n"
   ]
  },
  {
   "cell_type": "code",
   "execution_count": 19,
   "metadata": {},
   "outputs": [
    {
     "name": "stdout",
     "output_type": "stream",
     "text": [
      "5\n"
     ]
    }
   ],
   "source": [
    "### 지역변수 / 전역변수\n",
    "\n",
    "##전역변수 선언\n",
    "globalNumber=5\n",
    "\n",
    "def myFunction():\n",
    "    ## 지역변수 선언\n",
    "    variableNum=5\n",
    "    ## 전역변수 print\n",
    "    print(globalNumber)\n",
    "\n",
    "myFunction()\n",
    "\n",
    "##print(globalNumber)\n",
    "##print(variableNum)\n",
    "    \n",
    "    "
   ]
  },
  {
   "cell_type": "code",
   "execution_count": 23,
   "metadata": {},
   "outputs": [
    {
     "name": "stdout",
     "output_type": "stream",
     "text": [
      "b\n"
     ]
    }
   ],
   "source": [
    "### 문자열\n",
    "## 함수 사용하는거\n",
    "# immutable 특성을 가지고 있다. 변경이 불가능 하다.\n",
    "\n",
    "myString ='abc'\n",
    "print(myString[1])\n",
    "##오류\n",
    "##myString[1]='d'"
   ]
  },
  {
   "cell_type": "code",
   "execution_count": 28,
   "metadata": {},
   "outputs": [
    {
     "name": "stdout",
     "output_type": "stream",
     "text": [
      "  '이것도 되고 \" 이것도 된다   \n"
     ]
    }
   ],
   "source": [
    "## 문자열 선언\n",
    "## ''\n",
    "## \"\"\n",
    "### \"\"\" \"\"\"\n",
    "###만약에 ' 안에 쓰고싶어요\n",
    "## '' 쓰기 힘들죠\n",
    "### 만약에 \"\"안에 쓰고싶어요\n",
    "## \" 쓰기 힘들죠\n",
    "### \"\"\"  \"\"\"\n",
    "## ' 도 가능 \"도 가능\n",
    "print(\"\"\"  '이것도 되고 \" 이것도 된다   \"\"\")"
   ]
  },
  {
   "cell_type": "code",
   "execution_count": 36,
   "metadata": {},
   "outputs": [
    {
     "name": "stdout",
     "output_type": "stream",
     "text": [
      "abcdaefagaaa\n",
      "a\n",
      "b\n",
      "c\n",
      "d\n",
      "a\n",
      "e\n",
      "7\n",
      "aaaaaa"
     ]
    }
   ],
   "source": [
    "### 문자열 indexing\n",
    "myStr='abcdaefagaaa'\n",
    "print(myStr)\n",
    "print(myStr[0])\n",
    "print(myStr[1])\n",
    "print(myStr[2])\n",
    "print(myStr[3])\n",
    "print(myStr[4])\n",
    "print(myStr[5])\n",
    "\n",
    "## 인덱싱을 이용하여, 변태같이 프린트해보자.\n",
    "myStrLen=len(myStr)\n",
    "print(myStrlength)\n",
    "\n",
    "## 인덱싱의 의미\n",
    "### 하나씩 접근이 가능하다.\n",
    "### filter if문으로\n",
    "\n",
    "for i in range(0,myStrLen):\n",
    "    if myStr[i] =='a':\n",
    "        print(myStr[i],end='')"
   ]
  },
  {
   "cell_type": "code",
   "execution_count": 42,
   "metadata": {},
   "outputs": [
    {
     "name": "stdout",
     "output_type": "stream",
     "text": [
      "abcd\n",
      "aefagaaa\n"
     ]
    }
   ],
   "source": [
    "### 슬라이싱\n",
    "## 슬라이싱 한거 결과가 기존 값을 그대로 사용? 사용 X ?\n",
    "myStr='abcdaefagaaa'\n",
    "s1=myStr[0:4]\n",
    "s2=myStr[4:]\n",
    "\n",
    "\n",
    "print(s1)\n",
    "print(s2)"
   ]
  },
  {
   "cell_type": "code",
   "execution_count": 48,
   "metadata": {},
   "outputs": [
    {
     "name": "stdout",
     "output_type": "stream",
     "text": [
      "i= 0\n",
      "i= 1\n",
      "i= 2\n",
      "i= 3\n",
      "i= 4\n",
      "i= 5\n",
      "i= 6\n",
      "i= 7\n",
      "i= 8\n",
      "i= 9\n",
      "number =1 , myStr= 123 \n",
      "number = 10, myStr= abc\n"
     ]
    }
   ],
   "source": [
    "### 문자열 포메팅\n",
    "for i in range(0,10):\n",
    "    print('i=',i)\n",
    "    \n",
    "number=1\n",
    "myStr='123'\n",
    "### 문자열 포메팅 1번째. %d -> 정수 %s -> 문자열\n",
    "print(\"number =%d , myStr= %s \"%(number,myStr))\n",
    "\n",
    "### 문자열 포메팅 2번째. key -> value\n",
    "### %d나 %s대신 의미를 부여해서 포메팅\n",
    "print(\"number = {number}, myStr= {myStr}\".format(number=10,myStr='abc'))"
   ]
  },
  {
   "cell_type": "code",
   "execution_count": 56,
   "metadata": {},
   "outputs": [
    {
     "name": "stdout",
     "output_type": "stream",
     "text": [
      "10\n",
      "aIndex = -1\n",
      "ABCABCABCCDDEFSASDFEASDFASEFASDFCVASDAVASDE\n",
      "abcabcabccddefsasdfeasdfasefasdfcvasdavasde\n",
      "abc      \n",
      "    abc\n",
      "abc\n",
      "adc\n",
      "안녕\n",
      "파이썬\n",
      "스터디야\n"
     ]
    }
   ],
   "source": [
    "### 문자열\n",
    "## z없음\n",
    "myStr=\"abcabcabccddefsasdfeasdfasefasdfcvasdavasde\"\n",
    "### count\n",
    "aCount=myStr.count('a')\n",
    "print(aCount)\n",
    "### find vs index\n",
    "aIndex=myStr.find('z')\n",
    "print(\"aIndex = {idx}\".format(idx=aIndex))\n",
    "### find는 없으면 -1을 리턴한다.\n",
    "\n",
    "#aIndex=myStr.index('z')\n",
    "#print(\"aIndex = {idx}\".format(idx=aIndex))\n",
    "### index는 없으면 오류를 내요\n",
    "\n",
    "\n",
    "\n",
    "### upper\n",
    "\n",
    "print(myStr.upper())\n",
    "\n",
    "### lower\n",
    "print(myStr.lower())\n",
    "\n",
    "\n",
    "###### 문자열 중에 빈칸 ' ' 를 없애주는 역할\n",
    "### 공백은 굉장히 .. 짜증나요\n",
    "### konlpy  공백있으면, \n",
    "## 마지환 word 마지환                   \n",
    "## 이런 공백을 처리하기 위한 함수\n",
    "### lstrip\n",
    "tempStr=\"    abc      \"\n",
    "print(tempStr.lstrip())\n",
    "\n",
    "\n",
    "### rstrip\n",
    "tempStr=\"    abc     \"\n",
    "print(tempStr.rstrip())\n",
    "\n",
    "\n",
    "### strip\n",
    "tempStr=\"    abc      \"\n",
    "print(tempStr.strip())\n",
    "\n",
    "### replace\n",
    "## 문자열의 특성 하나 -> immutable 수정 불가.\n",
    "tempStr='abc'\n",
    "## 'adb'로 바꾸자\n",
    "print(tempStr.replace('b','d'))\n",
    "\n",
    "\n",
    "### split\n",
    "myStr='안녕 파이썬 스터디야'\n",
    "words=myStr.split(' ')\n",
    "\n",
    "for word in words:\n",
    "    print(word)"
   ]
  },
  {
   "cell_type": "code",
   "execution_count": 57,
   "metadata": {},
   "outputs": [],
   "source": [
    "### 라이브러리\n",
    "## 모듈 !!!!\n",
    "# 파이썬은 쓰레기다\n",
    "# 근데 왜쓰냐\n",
    "# 모듈이 진짜 진짜 좋아요\n",
    "# 파이썬은 좋아요"
   ]
  },
  {
   "cell_type": "code",
   "execution_count": 63,
   "metadata": {},
   "outputs": [
    {
     "name": "stdout",
     "output_type": "stream",
     "text": [
      "10\n",
      "123123\n",
      "5123\n"
     ]
    }
   ],
   "source": [
    "### 중요한거 하나 . 오류가 엄청 생겨요\n",
    "## 왜 생기냐.....?\n",
    "## 대부분이 타입에러\n",
    "number=5\n",
    "myStr='123'\n",
    "\n",
    "print(number+number)\n",
    "print(myStr+myStr)\n",
    "\n",
    "##print(number+myStr)\n",
    "##타입 확인.\n",
    "type(number)\n",
    "type(myStr)\n",
    "\n",
    "## 문자 -> 숫자로 바꿀때\n",
    "int(myStr)\n",
    "## 숫자 -> 문자로 바꿀때\n",
    "str(number)\n",
    "\n",
    "##number -> 문자로 바꾸고 + 해보자\n",
    "print(str(number)+myStr)\n",
    "\n",
    "\n"
   ]
  },
  {
   "cell_type": "code",
   "execution_count": 76,
   "metadata": {},
   "outputs": [
    {
     "name": "stdout",
     "output_type": "stream",
     "text": [
      "[1, 2, 100, 4, 5]\n",
      "[1, 2, 3, 1, 2, 3, 1, 2, 3]\n",
      "tempList [1, 2, 3, 4]\n",
      "4\n",
      "5\n"
     ]
    }
   ],
   "source": [
    "### 리스트\n",
    "tmpList=[1,2,3,4,5]\n",
    "listSize=len(tmpList)\n",
    "### string 다른 점 -> 변경이 가능합니다.\n",
    "\n",
    "##리스트는 수정이 가능하다.\n",
    "for i in range(0,listSize):\n",
    "    if tmpList[i] == 3:\n",
    "        tmpList[i]=100\n",
    "\n",
    "print(tmpList)\n",
    "\n",
    "##슬라이싱\n",
    "\n",
    "##리스트 더하기\n",
    "\n",
    "aList=[1,2,3]\n",
    "bList=[4,5,6]\n",
    "## [1,2,3,4,5,6]\n",
    "\n",
    "##이런게 파이썬에서 엄청 간단하게 나온 기능\n",
    "cList=aList+bList\n",
    "### 같은 연산 왠만하면 아래꺼 추천할게요. 가독성때매.\n",
    "##cList=aList.extend(bList)\n",
    "\n",
    "##이런게 파이썬에서 엄청 간단하게 나온 기능\n",
    "dList=aList*3\n",
    "print(dList)\n",
    "\n",
    "## 동적이다 ? 뭐죠 ?\n",
    "### 움직인다. 뭐가 움직이는데 뭘 할당해요?\n",
    "### 값이요 ? 사이즈 생각.\n",
    "tempList=[1,2,3,4] ## index 0,1,2,3\n",
    "print('tempList', tempList)\n",
    "print(tempList[3])\n",
    "\n",
    "### out of range = 메모리 할당도 안해놓고 왜 써 ?   print(tempList[4])\n",
    "\n",
    "tempList.append(5)\n",
    "\n",
    "### 어떤일이 벌어지냐. ? 메모리에 뒤에 한개가 할당이 되요.\n",
    "## 크기가 늘어나고 뒤에 5가 추가된다. \n",
    "print(tempList[4])\n",
    "\n",
    "\n",
    "### list 도 index 함수. 찾는거\n",
    "\n",
    "\n",
    "## list insert 이용하여 중간에 넣을 수도 있어\n",
    "### 이거 느러요. 엄청 느러요 왜 ?\n",
    "#### 재구성이 필요.\n",
    "\n",
    "### remove\n",
    "#### 이것도 상당히 느려요.\n",
    "\n",
    "### pop\n",
    "\n",
    "#### append\n",
    "\n",
    "\n"
   ]
  },
  {
   "cell_type": "code",
   "execution_count": 77,
   "metadata": {},
   "outputs": [
    {
     "name": "stdout",
     "output_type": "stream",
     "text": [
      "5\n"
     ]
    }
   ],
   "source": [
    "### range에 대한 설명 이게 뭘까 ?\n",
    "## range 쓰면 리스트가 자동으로 생성되요\n",
    "tmpList =  range(5,1000)\n",
    "\n",
    "print(tmpList[0])\n",
    "\n"
   ]
  },
  {
   "cell_type": "code",
   "execution_count": 78,
   "metadata": {},
   "outputs": [],
   "source": [
    "## 튜플  리스트랑 거의 같은데 변경이 아에 안되요.\n",
    "### 한번 해보세요\n"
   ]
  },
  {
   "cell_type": "code",
   "execution_count": 89,
   "metadata": {},
   "outputs": [
    {
     "name": "stdout",
     "output_type": "stream",
     "text": [
      "None\n",
      "3\n",
      "None\n"
     ]
    }
   ],
   "source": [
    "### 딕셔너리 이게 짱 중요\n",
    "## key -> value\n",
    "### 굉장히 익숙해지면 좋아요. 왜냐 ? json -> 자바스크립에서 클래스 정의할 때 써요\n",
    "### 빅데이터 할때도 RDB X , NoSql -> Key - value\n",
    "## 잘쓰면 진짜 빨라요.\n",
    "\n",
    "## List vs Dictionary\n",
    "\n",
    "tmpList=[1,2,3,4,5,6,7,8,9]\n",
    "## {} 초기화 Dictionary\n",
    "tmpDic={}\n",
    "for i in range(1,10):\n",
    "    tmpDic[i]=i\n",
    "###{1:1,2:2,3:3,4:4,5:5,6:6}\n",
    "### List에서 7을 찾아볼게요.\n",
    "### for  or in -> 처음부터 순회를 해야되요.\n",
    "### Dictionary에서 찾는다.\n",
    "print(tmpDic.get(10))\n",
    "### 한번에 접근이 가능해요. 리스트는 앞부터 순회를 해서 찾잖아요. dic 한번에 가능해요 \n",
    "#### 만약에 해당 key에 대한 value가 없을 시에는 None\n",
    "    \n",
    "    \n",
    "### 추가하기\n",
    "\n",
    "## 삭제\n",
    "\n",
    "## 키값들 얻기\n",
    "\n",
    "## 벨류만 얻기\n",
    "\n",
    "## 둘다 얻기\n",
    "\n",
    "## 싹다 지우기\n",
    "\n",
    "## 키값으로 밸류값 얻기\n",
    "print(tmpDic[3])\n",
    "##없는거\n",
    "###print(tmpDic[10])\n",
    "##오류가남..\n",
    "##그래서 안정적으로 사용하기 위해 get 쓰세요\n",
    "### get은 없으면 None을 줘요\n",
    "print(tmpDic.get(10))\n"
   ]
  },
  {
   "cell_type": "code",
   "execution_count": 92,
   "metadata": {},
   "outputs": [
    {
     "name": "stdout",
     "output_type": "stream",
     "text": [
      "여러분은 서버와 장치, 앱과 로그, 트래픽과 클라우드를 보고, Splunk는 모든 곳에서 데이터를 봅니다. Splunk®는 업계 최고의 운영 인텔리전스 플랫폼을 제공합니다. 이 플랫폼을 사용하면 머신 데이터(machine data)를 자세히 살펴보고, 타사에서 보지 못하는 귀사의 생산성, 수익, 경쟁력 및 보안 수준 증대에 도움이 되는 통찰력을 찾을 수 있습니다. Splunk를 사용하여 무엇을 할 수 있습니까?\n",
      "Splunk에 문의해 보십시오. 여러분 여러분 여러분 여러분 여러분 여러분 \n",
      "['여러분은', '서버와', '장치,', '앱과', '로그,', '트래픽과', '클라우드를', '보고,', 'Splunk는', '모든', '곳에서', '데이터를', '봅니다.', 'Splunk®는', '업계', '최고의', '운영', '인텔리전스', '플랫폼을', '제공합니다.', '이', '플랫폼을', '사용하면', '머신', '데이터(machine', 'data)를', '자세히', '살펴보고,', '타사에서', '보지', '못하는', '귀사의', '생산성,', '수익,', '경쟁력', '및', '보안', '수준', '증대에', '도움이', '되는', '통찰력을', '찾을', '수', '있습니다.', 'Splunk를', '사용하여', '무엇을', '할', '수', '있습니까?\\nSplunk에', '문의해', '보십시오.', '여러분', '여러분', '여러분', '여러분', '여러분', '여러분', '']\n"
     ]
    }
   ],
   "source": [
    "words=\"\"\"여러분은 서버와 장치, 앱과 로그, 트래픽과 클라우드를 보고, Splunk는 모든 곳에서 데이터를 봅니다. Splunk®는 업계 최고의 운영 인텔리전스 플랫폼을 제공합니다. 이 플랫폼을 사용하면 머신 데이터(machine data)를 자세히 살펴보고, 타사에서 보지 못하는 귀사의 생산성, 수익, 경쟁력 및 보안 수준 증대에 도움이 되는 통찰력을 찾을 수 있습니다. Splunk를 사용하여 무엇을 할 수 있습니까?\n",
    "Splunk에 문의해 보십시오. 여러분 여러분 여러분 여러분 여러분 여러분 \"\"\"\n",
    "##print(words)\n",
    "\n",
    "### 띄어쓰기로 분리할 거에요\n",
    "\n",
    "A=words.split(' ')\n",
    "\n",
    "print(A)"
   ]
  },
  {
   "cell_type": "code",
   "execution_count": 94,
   "metadata": {},
   "outputs": [
    {
     "name": "stdout",
     "output_type": "stream",
     "text": [
      "여러분은 는  1 번 있습니다.\n",
      "서버와 는  1 번 있습니다.\n",
      "장치, 는  1 번 있습니다.\n",
      "앱과 는  1 번 있습니다.\n",
      "로그, 는  1 번 있습니다.\n",
      "트래픽과 는  1 번 있습니다.\n",
      "클라우드를 는  1 번 있습니다.\n",
      "보고, 는  1 번 있습니다.\n",
      "Splunk는 는  1 번 있습니다.\n",
      "모든 는  1 번 있습니다.\n",
      "곳에서 는  1 번 있습니다.\n",
      "데이터를 는  1 번 있습니다.\n",
      "봅니다. 는  1 번 있습니다.\n",
      "Splunk®는 는  1 번 있습니다.\n",
      "업계 는  1 번 있습니다.\n",
      "최고의 는  1 번 있습니다.\n",
      "운영 는  1 번 있습니다.\n",
      "인텔리전스 는  1 번 있습니다.\n",
      "플랫폼을 는  2 번 있습니다.\n",
      "제공합니다. 는  1 번 있습니다.\n",
      "이 는  1 번 있습니다.\n",
      "플랫폼을 는  2 번 있습니다.\n",
      "사용하면 는  1 번 있습니다.\n",
      "머신 는  1 번 있습니다.\n",
      "데이터(machine 는  1 번 있습니다.\n",
      "data)를 는  1 번 있습니다.\n",
      "자세히 는  1 번 있습니다.\n",
      "살펴보고, 는  1 번 있습니다.\n",
      "타사에서 는  1 번 있습니다.\n",
      "보지 는  1 번 있습니다.\n",
      "못하는 는  1 번 있습니다.\n",
      "귀사의 는  1 번 있습니다.\n",
      "생산성, 는  1 번 있습니다.\n",
      "수익, 는  1 번 있습니다.\n",
      "경쟁력 는  1 번 있습니다.\n",
      "및 는  1 번 있습니다.\n",
      "보안 는  1 번 있습니다.\n",
      "수준 는  1 번 있습니다.\n",
      "증대에 는  1 번 있습니다.\n",
      "도움이 는  1 번 있습니다.\n",
      "되는 는  1 번 있습니다.\n",
      "통찰력을 는  1 번 있습니다.\n",
      "찾을 는  1 번 있습니다.\n",
      "수 는  2 번 있습니다.\n",
      "있습니다. 는  1 번 있습니다.\n",
      "Splunk를 는  1 번 있습니다.\n",
      "사용하여 는  1 번 있습니다.\n",
      "무엇을 는  1 번 있습니다.\n",
      "할 는  1 번 있습니다.\n",
      "수 는  2 번 있습니다.\n",
      "있습니까?\n",
      "Splunk에 는  1 번 있습니다.\n",
      "문의해 는  1 번 있습니다.\n",
      "보십시오. 는  1 번 있습니다.\n",
      "여러분 는  6 번 있습니다.\n",
      "여러분 는  6 번 있습니다.\n",
      "여러분 는  6 번 있습니다.\n",
      "여러분 는  6 번 있습니다.\n",
      "여러분 는  6 번 있습니다.\n",
      "여러분 는  6 번 있습니다.\n",
      " 는  1 번 있습니다.\n"
     ]
    }
   ],
   "source": [
    "### wordCount - List\n",
    "for word in A:\n",
    "    cnt=0\n",
    "    for word2 in A:\n",
    "        if word==word2:\n",
    "            cnt=cnt+1\n",
    "    print(word,'는 ',cnt,'번 있습니다.')\n"
   ]
  },
  {
   "cell_type": "code",
   "execution_count": 99,
   "metadata": {},
   "outputs": [
    {
     "name": "stdout",
     "output_type": "stream",
     "text": [
      "{'': 1, '최고의': 1, '업계': 1, '있습니다.': 1, '살펴보고,': 1, '도움이': 1, '여러분': 6, '장치,': 1, '생산성,': 1, '수준': 1, '보고,': 1, '증대에': 1, '통찰력을': 1, '무엇을': 1, '데이터(machine': 1, '수': 2, '및': 1, '봅니다.': 1, '클라우드를': 1, '보안': 1, '있습니까?\\nSplunk에': 1, '데이터를': 1, '찾을': 1, '곳에서': 1, '타사에서': 1, '제공합니다.': 1, '플랫폼을': 2, '보십시오.': 1, '머신': 1, 'Splunk는': 1, '자세히': 1, '로그,': 1, '트래픽과': 1, '서버와': 1, '경쟁력': 1, '사용하면': 1, '사용하여': 1, '귀사의': 1, '운영': 1, '여러분은': 1, '할': 1, '모든': 1, 'data)를': 1, '문의해': 1, '되는': 1, 'Splunk를': 1, '못하는': 1, '인텔리전스': 1, '앱과': 1, 'Splunk®는': 1, '수익,': 1, '보지': 1, '이': 1}\n"
     ]
    }
   ],
   "source": [
    "### wordCount - Dictionary\n",
    "\n",
    "wordDic={}\n",
    "for word in A:\n",
    "    key=word\n",
    "    if wordDic.get(key)==None:\n",
    "        wordDic[key]=1\n",
    "    else:\n",
    "        wordDic[key]=wordDic[key]+1\n",
    "\n",
    "        \n",
    "print(wordDic)\n",
    "\n"
   ]
  },
  {
   "cell_type": "code",
   "execution_count": 100,
   "metadata": {},
   "outputs": [],
   "source": [
    "### for 문 귀찮은데 왜케 해야돼냐..?\n",
    "\n",
    "### 전처리\n",
    "\n",
    "#### 산림청으로부터 데이터를 받았어요 . 형태 Json\n",
    "#### key - value 파싱은 됬거든요?\n",
    "#### Json 1개가 아니고 압축파일이 40갠가 푸니까 3600개\n",
    "#### 압축은 한번에 풀어썽요\n",
    "### 그 파일의 절대경로를 List에 담았어요\n",
    "\n",
    "#### 파일 하나에 대해서 전처리 하는 코드를 짯어요 ### 이쪽부분이 거의 1시간 55분 ##여기를 배웠잖아요...!\n",
    "\n",
    "### List 순회하면서 다 전처리 했어요\n",
    "#### 2시간정도.\n",
    "\n"
   ]
  },
  {
   "cell_type": "code",
   "execution_count": null,
   "metadata": {},
   "outputs": [],
   "source": []
  }
 ],
 "metadata": {
  "kernelspec": {
   "display_name": "Python 3",
   "language": "python",
   "name": "python3"
  },
  "language_info": {
   "codemirror_mode": {
    "name": "ipython",
    "version": 3
   },
   "file_extension": ".py",
   "mimetype": "text/x-python",
   "name": "python",
   "nbconvert_exporter": "python",
   "pygments_lexer": "ipython3",
   "version": "3.5.3"
  }
 },
 "nbformat": 4,
 "nbformat_minor": 2
}
